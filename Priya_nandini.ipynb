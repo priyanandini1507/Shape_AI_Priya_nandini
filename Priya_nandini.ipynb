{
  "nbformat": 4,
  "nbformat_minor": 0,
  "metadata": {
    "colab": {
      "name": "Priya_nandini",
      "provenance": []
    },
    "kernelspec": {
      "name": "python3",
      "display_name": "Python 3"
    },
    "language_info": {
      "name": "python"
    }
  },
  "cells": [
    {
      "cell_type": "code",
      "metadata": {
        "colab": {
          "base_uri": "https://localhost:8080/"
        },
        "id": "3dord_rZlqKv",
        "outputId": "75cae827-824e-44e9-e652-58ff4d35bd5c"
      },
      "source": [
        "from keras.datasets import mnist\n",
        "data=mnist.load_data()"
      ],
      "execution_count": 3,
      "outputs": [
        {
          "output_type": "stream",
          "text": [
            "Downloading data from https://storage.googleapis.com/tensorflow/tf-keras-datasets/mnist.npz\n",
            "11493376/11490434 [==============================] - 0s 0us/step\n"
          ],
          "name": "stdout"
        }
      ]
    },
    {
      "cell_type": "code",
      "metadata": {
        "id": "e9qQC1WIm2SJ"
      },
      "source": [
        "((X_train,y_train),(X_test,y_test))=data"
      ],
      "execution_count": 5,
      "outputs": []
    },
    {
      "cell_type": "code",
      "metadata": {
        "id": "6y71mH5bnJyk"
      },
      "source": [
        "X_train=X_train.reshape((X_train.shape[0],28*28)).astype('float32')\n",
        "X_test=X_test.reshape((X_test.shape[0],28*28)).astype('float32')"
      ],
      "execution_count": 19,
      "outputs": []
    },
    {
      "cell_type": "code",
      "metadata": {
        "id": "CkHlZC3xntJW"
      },
      "source": [
        "X_train=X_train/225\n",
        "X_test=X_test/225"
      ],
      "execution_count": 7,
      "outputs": []
    },
    {
      "cell_type": "code",
      "metadata": {
        "colab": {
          "base_uri": "https://localhost:8080/"
        },
        "id": "dce3WOFen_Ma",
        "outputId": "b6114b32-b358-418c-93a5-15350506e47b"
      },
      "source": [
        "from keras.utils import np_utils\n",
        "print(y_test.shape)\n",
        "y_train=np_utils.to_categorical(y_train)\n",
        "y_test=np_utils.to_categorical(y_test)\n",
        "num_classes=y_test.shape[1]\n",
        "print(y_test.shape)\n",
        "\n"
      ],
      "execution_count": 8,
      "outputs": [
        {
          "output_type": "stream",
          "text": [
            "(10000,)\n",
            "(10000, 10)\n"
          ],
          "name": "stdout"
        }
      ]
    },
    {
      "cell_type": "code",
      "metadata": {
        "id": "vcYOtxO1pMGy"
      },
      "source": [
        "from keras.models import Sequential\n",
        "from keras.layers import Dense"
      ],
      "execution_count": 9,
      "outputs": []
    },
    {
      "cell_type": "code",
      "metadata": {
        "id": "titpaA76pjqf"
      },
      "source": [
        "model=Sequential()\n",
        "model.add(Dense(32,input_dim=28*28,activation='relu'))\n",
        "model.add(Dense(64,activation='relu'))\n",
        "model.add(Dense(10,activation='softmax'))"
      ],
      "execution_count": 10,
      "outputs": []
    },
    {
      "cell_type": "code",
      "metadata": {
        "id": "YWD8QIjmqEBx"
      },
      "source": [
        "model.compile(loss='categorical_crossentropy',optimizer='adam',metrics=['accuracy'])"
      ],
      "execution_count": 13,
      "outputs": []
    },
    {
      "cell_type": "code",
      "metadata": {
        "colab": {
          "base_uri": "https://localhost:8080/"
        },
        "id": "nW6_MkONqyHO",
        "outputId": "12b00a74-289a-487d-9241-6cf453a04dd2"
      },
      "source": [
        "model.summary()\n",
        "Model: \"sequential_2\""
      ],
      "execution_count": 15,
      "outputs": [
        {
          "output_type": "stream",
          "text": [
            "Model: \"sequential\"\n",
            "_________________________________________________________________\n",
            "Layer (type)                 Output Shape              Param #   \n",
            "=================================================================\n",
            "dense (Dense)                (None, 32)                25120     \n",
            "_________________________________________________________________\n",
            "dense_1 (Dense)              (None, 64)                2112      \n",
            "_________________________________________________________________\n",
            "dense_2 (Dense)              (None, 10)                650       \n",
            "=================================================================\n",
            "Total params: 27,882\n",
            "Trainable params: 27,882\n",
            "Non-trainable params: 0\n",
            "_________________________________________________________________\n"
          ],
          "name": "stdout"
        }
      ]
    },
    {
      "cell_type": "code",
      "metadata": {
        "colab": {
          "base_uri": "https://localhost:8080/"
        },
        "id": "oSeOmg9grI09",
        "outputId": "905b4f8d-bf2f-43ff-e7ad-2bbd7c4b5471"
      },
      "source": [
        "model.fit(X_train,y_train,epochs=10,batch_size=100)"
      ],
      "execution_count": 16,
      "outputs": [
        {
          "output_type": "stream",
          "text": [
            "Epoch 1/10\n",
            "600/600 [==============================] - 2s 2ms/step - loss: nan - accuracy: 0.2281\n",
            "Epoch 2/10\n",
            "600/600 [==============================] - 1s 2ms/step - loss: nan - accuracy: 0.0967\n",
            "Epoch 3/10\n",
            "600/600 [==============================] - 1s 2ms/step - loss: nan - accuracy: 0.0979\n",
            "Epoch 4/10\n",
            "600/600 [==============================] - 1s 2ms/step - loss: nan - accuracy: 0.0993\n",
            "Epoch 5/10\n",
            "600/600 [==============================] - 1s 2ms/step - loss: nan - accuracy: 0.0982\n",
            "Epoch 6/10\n",
            "600/600 [==============================] - 1s 2ms/step - loss: nan - accuracy: 0.0985\n",
            "Epoch 7/10\n",
            "600/600 [==============================] - 1s 2ms/step - loss: nan - accuracy: 0.0996\n",
            "Epoch 8/10\n",
            "600/600 [==============================] - 1s 2ms/step - loss: nan - accuracy: 0.0965\n",
            "Epoch 9/10\n",
            "600/600 [==============================] - 1s 2ms/step - loss: nan - accuracy: 0.0986\n",
            "Epoch 10/10\n",
            "600/600 [==============================] - 1s 2ms/step - loss: nan - accuracy: 0.0974\n"
          ],
          "name": "stdout"
        },
        {
          "output_type": "execute_result",
          "data": {
            "text/plain": [
              "<tensorflow.python.keras.callbacks.History at 0x7fef3979efd0>"
            ]
          },
          "metadata": {
            "tags": []
          },
          "execution_count": 16
        }
      ]
    },
    {
      "cell_type": "code",
      "metadata": {
        "colab": {
          "base_uri": "https://localhost:8080/"
        },
        "id": "tm_swO7NrbgQ",
        "outputId": "2c24ad73-bb70-4830-ae49-d39e3f662f49"
      },
      "source": [
        "scores=model.evaluate(X_test,y_test)\n",
        "print(scores)"
      ],
      "execution_count": 17,
      "outputs": [
        {
          "output_type": "stream",
          "text": [
            "313/313 [==============================] - 0s 1ms/step - loss: nan - accuracy: 0.0980\n",
            "[nan, 0.09799999743700027]\n"
          ],
          "name": "stdout"
        }
      ]
    }
  ]
}